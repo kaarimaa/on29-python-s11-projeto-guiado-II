{
 "cells": [
  {
   "cell_type": "code",
   "execution_count": 15,
   "metadata": {},
   "outputs": [],
   "source": [
    "import csv\n",
    "import sqlite3"
   ]
  },
  {
   "cell_type": "code",
   "execution_count": 16,
   "metadata": {},
   "outputs": [],
   "source": [
    "with open(\"amazon.csv\", newline='', encoding='utf-8') as file:\n",
    "    conteudo = csv.reader(file)"
   ]
  },
  {
   "cell_type": "code",
   "execution_count": 17,
   "metadata": {},
   "outputs": [],
   "source": [
    "connection = sqlite3.connect(\"bd_amazon.db\")\n",
    "cursor = connection.cursor()"
   ]
  },
  {
   "cell_type": "code",
   "execution_count": 18,
   "metadata": {},
   "outputs": [
    {
     "data": {
      "text/plain": [
       "<sqlite3.Cursor at 0x1df26f40a40>"
      ]
     },
     "execution_count": 18,
     "metadata": {},
     "output_type": "execute_result"
    }
   ],
   "source": [
    "cursor.execute('''CREATE TABLE IF NOT EXISTS Products_review (\n",
    "        product_id INT,\n",
    "        product_name VARCHAR,\n",
    "        category VARCHAR,\n",
    "        discounted_price FLOAT,\n",
    "        actual_price FLOAT,\n",
    "        discount_percentage FLOAT,\n",
    "        rating FLOAT,\n",
    "        rating_count FLOAT,\n",
    "        about_product TEXT,\n",
    "        user_id VARCHAR,\n",
    "        user_name VARCHAR,\n",
    "        review_id INT,\n",
    "        review_title VARCHAR,\n",
    "        review_content TEXT,\n",
    "        img_link VARCHAR,\n",
    "        product_link VARCHAR\n",
    "    )''')"
   ]
  },
  {
   "cell_type": "code",
   "execution_count": 19,
   "metadata": {},
   "outputs": [],
   "source": [
    "inserir_conteudo = \"\"\"INSERT INTO Products_review \n",
    "                        (product_id, product_name, category, discounted_price, actual_price, discount_percentage,\n",
    "                           rating, rating_count, about_product, user_id, user_name, review_id, review_title,\n",
    "                           review_content, img_link, product_link)\n",
    "                          VALUES (?, ?, ?, ?, ?, ?, ?, ?, ?, ?, ?, ?, ?, ?, ?, ?)\"\"\""
   ]
  },
  {
   "cell_type": "code",
   "execution_count": 20,
   "metadata": {},
   "outputs": [
    {
     "data": {
      "text/plain": [
       "<function Cursor.executemany(sql, seq_of_parameters, /)>"
      ]
     },
     "execution_count": 20,
     "metadata": {},
     "output_type": "execute_result"
    }
   ],
   "source": [
    "cursor.executemany"
   ]
  },
  {
   "cell_type": "code",
   "execution_count": 25,
   "metadata": {},
   "outputs": [],
   "source": [
    "selecionar_tudo = \"SELECT * FROM Products_review\"\n",
    "entradas = cursor.execute(selecionar_tudo).fetchall()"
   ]
  },
  {
   "cell_type": "code",
   "execution_count": 22,
   "metadata": {},
   "outputs": [],
   "source": [
    "for entrada in entradas:\n",
    "    print(entrada)"
   ]
  },
  {
   "cell_type": "code",
   "execution_count": 23,
   "metadata": {},
   "outputs": [],
   "source": [
    "connection.commit()\n",
    "connection.close()"
   ]
  }
 ],
 "metadata": {
  "kernelspec": {
   "display_name": "Python 3",
   "language": "python",
   "name": "python3"
  },
  "language_info": {
   "codemirror_mode": {
    "name": "ipython",
    "version": 3
   },
   "file_extension": ".py",
   "mimetype": "text/x-python",
   "name": "python",
   "nbconvert_exporter": "python",
   "pygments_lexer": "ipython3",
   "version": "3.12.3"
  }
 },
 "nbformat": 4,
 "nbformat_minor": 2
}
