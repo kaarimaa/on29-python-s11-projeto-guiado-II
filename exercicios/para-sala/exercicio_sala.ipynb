{
 "cells": [
  {
   "cell_type": "code",
   "execution_count": 2,
   "metadata": {},
   "outputs": [],
   "source": [
    "import csv\n",
    "import sqlite3\n",
    "#importação"
   ]
  },
  {
   "cell_type": "code",
   "execution_count": 3,
   "metadata": {},
   "outputs": [],
   "source": [
    "file = open(\"titanic.csv\")\n",
    "#abre arquivo"
   ]
  },
  {
   "cell_type": "code",
   "execution_count": 4,
   "metadata": {},
   "outputs": [],
   "source": [
    "conteudo = csv.reader(file)\n",
    "#le arquivo"
   ]
  },
  {
   "cell_type": "code",
   "execution_count": 5,
   "metadata": {},
   "outputs": [],
   "source": [
    "connection = sqlite3.connect(\"banco_de_dados_titanic.db\")\n",
    "#conecta com o banco de dados e cria banco de dados"
   ]
  },
  {
   "cell_type": "code",
   "execution_count": 6,
   "metadata": {},
   "outputs": [],
   "source": [
    "cursor = connection.cursor()\n",
    "#conectando com o bando de dados"
   ]
  },
  {
   "cell_type": "code",
   "execution_count": 7,
   "metadata": {},
   "outputs": [
    {
     "ename": "OperationalError",
     "evalue": "table passageiros already exists",
     "output_type": "error",
     "traceback": [
      "\u001b[1;31m---------------------------------------------------------------------------\u001b[0m",
      "\u001b[1;31mOperationalError\u001b[0m                          Traceback (most recent call last)",
      "Cell \u001b[1;32mIn[7], line 3\u001b[0m\n\u001b[0;32m      1\u001b[0m \u001b[38;5;66;03m#criar tabela\u001b[39;00m\n\u001b[1;32m----> 3\u001b[0m \u001b[43mcursor\u001b[49m\u001b[38;5;241;43m.\u001b[39;49m\u001b[43mexecute\u001b[49m\u001b[43m(\u001b[49m\u001b[38;5;124;43m'''\u001b[39;49m\u001b[38;5;124;43mCREATE TABLE passageiros (\u001b[39;49m\n\u001b[0;32m      4\u001b[0m \u001b[38;5;124;43m        PassengerId INT,\u001b[39;49m\n\u001b[0;32m      5\u001b[0m \u001b[38;5;124;43m        Survived INT,\u001b[39;49m\n\u001b[0;32m      6\u001b[0m \u001b[38;5;124;43m        Pclass INT,\u001b[39;49m\n\u001b[0;32m      7\u001b[0m \u001b[38;5;124;43m        Name VARCHAR,\u001b[39;49m\n\u001b[0;32m      8\u001b[0m \u001b[38;5;124;43m        Sex VARCHAR,\u001b[39;49m\n\u001b[0;32m      9\u001b[0m \u001b[38;5;124;43m        Age INT,\u001b[39;49m\n\u001b[0;32m     10\u001b[0m \u001b[38;5;124;43m        SibSp INT,\u001b[39;49m\n\u001b[0;32m     11\u001b[0m \u001b[38;5;124;43m        Parch INT,\u001b[39;49m\n\u001b[0;32m     12\u001b[0m \u001b[38;5;124;43m        Ticket VARCHAR,\u001b[39;49m\n\u001b[0;32m     13\u001b[0m \u001b[38;5;124;43m        Fare FLOAT,\u001b[39;49m\n\u001b[0;32m     14\u001b[0m \u001b[38;5;124;43m        Cabin VARCHAR,\u001b[39;49m\n\u001b[0;32m     15\u001b[0m \u001b[38;5;124;43m        Embarked VARCHAR\u001b[39;49m\n\u001b[0;32m     16\u001b[0m \u001b[38;5;124;43m)\u001b[39;49m\u001b[38;5;124;43m'''\u001b[39;49m\u001b[43m)\u001b[49m\n",
      "\u001b[1;31mOperationalError\u001b[0m: table passageiros already exists"
     ]
    }
   ],
   "source": [
    "#criar tabela\n",
    "\n",
    "cursor.execute('''CREATE TABLE passageiros (\n",
    "        PassengerId INT,\n",
    "        Survived INT,\n",
    "        Pclass INT,\n",
    "        Name VARCHAR,\n",
    "        Sex VARCHAR,\n",
    "        Age INT,\n",
    "        SibSp INT,\n",
    "        Parch INT,\n",
    "        Ticket VARCHAR,\n",
    "        Fare FLOAT,\n",
    "        Cabin VARCHAR,\n",
    "        Embarked VARCHAR\n",
    ")''')"
   ]
  },
  {
   "cell_type": "code",
   "execution_count": null,
   "metadata": {},
   "outputs": [],
   "source": [
    "inserir_conteudo = \"\"\"INSERT INTO passageiros(PassengerId,Survived,Pclass,Name,Sex,Age,SibSp,Parch,Ticket,Fare,Cabin,Embarked) VALUES(?,?,?,?,?,?,?,?,?,?,?,?)\"\"\"\n",
    "#insere conteúdo"
   ]
  },
  {
   "cell_type": "code",
   "execution_count": null,
   "metadata": {},
   "outputs": [],
   "source": [
    "cursor.executemany(inserir_conteudo, conteudo)\n",
    "#executa todas as variáveis"
   ]
  },
  {
   "cell_type": "code",
   "execution_count": null,
   "metadata": {},
   "outputs": [],
   "source": [
    "selecionar_tudo = \"SELECT * FROM passageiros\"\n",
    "#criar variável e identificar o que tem na tabela"
   ]
  },
  {
   "cell_type": "code",
   "execution_count": null,
   "metadata": {},
   "outputs": [],
   "source": [
    "entradas = cursor.execute(selecionar_tudo).fetchall()\n",
    "#le todas as entradas e consulta o que tem na tabela"
   ]
  },
  {
   "cell_type": "code",
   "execution_count": 1,
   "metadata": {},
   "outputs": [
    {
     "ename": "NameError",
     "evalue": "name 'entradas' is not defined",
     "output_type": "error",
     "traceback": [
      "\u001b[1;31m---------------------------------------------------------------------------\u001b[0m",
      "\u001b[1;31mNameError\u001b[0m                                 Traceback (most recent call last)",
      "Cell \u001b[1;32mIn[1], line 1\u001b[0m\n\u001b[1;32m----> 1\u001b[0m \u001b[38;5;28;01mfor\u001b[39;00m entrada \u001b[38;5;129;01min\u001b[39;00m \u001b[43mentradas\u001b[49m:\n\u001b[0;32m      2\u001b[0m     \u001b[38;5;28mprint\u001b[39m(entrada)\n\u001b[0;32m      3\u001b[0m     \u001b[38;5;66;03m#chama a tabela\u001b[39;00m\n",
      "\u001b[1;31mNameError\u001b[0m: name 'entradas' is not defined"
     ]
    }
   ],
   "source": [
    "for entrada in entradas:\n",
    "    print(entrada)\n",
    "    #chama a tabela"
   ]
  },
  {
   "cell_type": "code",
   "execution_count": null,
   "metadata": {},
   "outputs": [],
   "source": [
    "connection.commit()\n",
    "#confirma a conexão"
   ]
  },
  {
   "cell_type": "code",
   "execution_count": null,
   "metadata": {},
   "outputs": [],
   "source": [
    "connection.close()\n",
    "#fecha a conexão"
   ]
  },
  {
   "cell_type": "code",
   "execution_count": null,
   "metadata": {},
   "outputs": [],
   "source": []
  }
 ],
 "metadata": {
  "kernelspec": {
   "display_name": "Python 3",
   "language": "python",
   "name": "python3"
  },
  "language_info": {
   "codemirror_mode": {
    "name": "ipython",
    "version": 3
   },
   "file_extension": ".py",
   "mimetype": "text/x-python",
   "name": "python",
   "nbconvert_exporter": "python",
   "pygments_lexer": "ipython3",
   "version": "3.12.3"
  }
 },
 "nbformat": 4,
 "nbformat_minor": 2
}
